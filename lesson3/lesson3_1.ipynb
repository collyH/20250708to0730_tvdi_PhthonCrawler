{
 "cells": [
  {
   "cell_type": "code",
   "execution_count": 6,
   "id": "07f33398",
   "metadata": {},
   "outputs": [
    {
     "name": "stdout",
     "output_type": "stream",
     "text": [
      "['apple', 'banana', 'cherry']\n",
      "['apple', 'banana', 'cherry']\n",
      "=============\n",
      "['apple', 'raspberry', 'cherry']\n",
      "['apple', 'raspberry', 'cherry']\n",
      "['apple', 'raspberry', 'cherry']\n",
      "=============try\n",
      "['apple', 'DOG', 'cherry']\n",
      "['apple', 'DOG', 'cherry']\n"
     ]
    }
   ],
   "source": [
    "\n",
    "#實體只有一個，只是給了遙控器(reference type)\n",
    "#實體裡面有屬性(property)和方法(method)\n",
    "#所有的實體都是class建立的，class是工廠\n",
    "\n",
    "\n",
    "fruits = ['apple', 'banana', 'cherry']\n",
    "type(fruits)\n",
    "print(fruits)\n",
    "another_fruits = fruits\n",
    "another_fruits1 = another_fruits\n",
    "print(another_fruits)\n",
    "\n",
    "print(\"=============\")\n",
    "fruits[1] = 'raspberry'\n",
    "print(fruits)\n",
    "print(another_fruits)\n",
    "print(another_fruits1)\n",
    "\n",
    "print(\"=============try\")\n",
    "another_fruits[1] = 'DOG'\n",
    "print(another_fruits)\n",
    "print(fruits)\n"
   ]
  },
  {
   "cell_type": "code",
   "execution_count": 1,
   "id": "ae234bb6",
   "metadata": {},
   "outputs": [
    {
     "name": "stdout",
     "output_type": "stream",
     "text": [
      "3\n",
      "3\n",
      "==============\n",
      "3\n",
      "5\n"
     ]
    }
   ],
   "source": [
    "#基本資料類型\n",
    "n = 3\n",
    "x = n\n",
    "print(n)\n",
    "print(x)\n",
    "print(\"==============\")\n",
    "x = 5\n",
    "print(n)\n",
    "print(x)\n"
   ]
  },
  {
   "cell_type": "markdown",
   "id": "59e7f8a2",
   "metadata": {},
   "source": [
    "### 資料結構\n",
    "### 資本資料類型：（value type）:int,float, bool, str, tuple"
   ]
  }
 ],
 "metadata": {
  "kernelspec": {
   "display_name": "web_crawler",
   "language": "python",
   "name": "python3"
  },
  "language_info": {
   "codemirror_mode": {
    "name": "ipython",
    "version": 3
   },
   "file_extension": ".py",
   "mimetype": "text/x-python",
   "name": "python",
   "nbconvert_exporter": "python",
   "pygments_lexer": "ipython3",
   "version": "3.11.13"
  }
 },
 "nbformat": 4,
 "nbformat_minor": 5
}
