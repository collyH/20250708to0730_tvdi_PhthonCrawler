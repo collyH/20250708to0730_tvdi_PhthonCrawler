{
 "cells": [
  {
   "cell_type": "code",
   "execution_count": 30,
   "id": "40f52c27",
   "metadata": {},
   "outputs": [
    {
     "name": "stdout",
     "output_type": "stream",
     "text": [
      "('Taipei', 2)\n",
      "('Taichung', 4)\n"
     ]
    }
   ],
   "source": [
    "#回傳所有鍵值對（(key, value) tuples）的視圖\n",
    "for item in City_code.items():\n",
    "    print(item)    "
   ]
  },
  {
   "cell_type": "code",
   "execution_count": 27,
   "id": "718cb9a6",
   "metadata": {},
   "outputs": [
    {
     "data": {
      "text/plain": [
       "dict_items([('Taipei', 2), ('Taichung', 4)])"
      ]
     },
     "execution_count": 27,
     "metadata": {},
     "output_type": "execute_result"
    }
   ],
   "source": [
    "City_code.items()"
   ]
  },
  {
   "cell_type": "code",
   "execution_count": 26,
   "id": "637c05ba",
   "metadata": {},
   "outputs": [
    {
     "data": {
      "text/plain": [
       "4"
      ]
     },
     "execution_count": 26,
     "metadata": {},
     "output_type": "execute_result"
    }
   ],
   "source": [
    "City_code['Taipei']\n",
    "City_code['Taichung']"
   ]
  },
  {
   "cell_type": "code",
   "execution_count": 25,
   "id": "acbca779",
   "metadata": {},
   "outputs": [],
   "source": [
    "#dict實體\n",
    "City_code = {'Taipei': 2, 'Taichung': 4}\n"
   ]
  },
  {
   "cell_type": "markdown",
   "id": "e50b283a",
   "metadata": {},
   "source": [
    "# Class Dict mapping"
   ]
  },
  {
   "cell_type": "code",
   "execution_count": 22,
   "id": "322dea65",
   "metadata": {},
   "outputs": [
    {
     "name": "stdout",
     "output_type": "stream",
     "text": [
      "apple\n",
      "DOG\n",
      "在[2]插入值，應該是把cherry往後挪\n",
      "在[2]插入值，應該是把cherry往後挪\n",
      "在[2]插入值，應該是把cherry往後挪\n",
      "在[2]插入值，應該是把cherry往後挪\n",
      "在[2]插入值，應該是把cherry往後挪\n",
      "在[2]插入值，應該是把cherry往後挪\n",
      "在[2]插入值，應該是把cherry往後挪\n",
      "cherry\n",
      "APPLE\n"
     ]
    },
    {
     "data": {
      "text/plain": [
       "7"
      ]
     },
     "execution_count": 22,
     "metadata": {},
     "output_type": "execute_result"
    }
   ],
   "source": [
    "fruits.insert(2,'在[2]插入值，應該是把cherry往後挪')\n",
    "for item in fruits:\n",
    "    print(item)\n",
    "#回傳***第一個值***為 x 的索引\n",
    "fruits.index('在[2]插入值，應該是把cherry往後挪')\n",
    "#計算 x 在串列中出現的次數\n",
    "fruits.count('在[2]插入值，應該是把cherry往後挪')"
   ]
  },
  {
   "cell_type": "code",
   "execution_count": 14,
   "id": "ccad3f82",
   "metadata": {},
   "outputs": [
    {
     "name": "stdout",
     "output_type": "stream",
     "text": [
      "apple\n",
      "DOG\n",
      "cherry\n",
      "APPLE\n"
     ]
    }
   ],
   "source": [
    "#串列資料是屬於\n",
    "# fruits\n",
    "for item in fruits:\n",
    "    print(item)"
   ]
  },
  {
   "cell_type": "code",
   "execution_count": 12,
   "id": "fe616fc6",
   "metadata": {},
   "outputs": [
    {
     "name": "stdout",
     "output_type": "stream",
     "text": [
      "<class 'list'>\n"
     ]
    }
   ],
   "source": [
    "print(type(fruits))\n",
    "fruits.append('APPLE')\n"
   ]
  },
  {
   "cell_type": "code",
   "execution_count": 8,
   "id": "318f5175",
   "metadata": {},
   "outputs": [
    {
     "name": "stdout",
     "output_type": "stream",
     "text": [
      "apple\n",
      "DOG\n",
      "cherry\n"
     ]
    }
   ],
   "source": [
    "#\n",
    "print(fruits[0])\n",
    "print(fruits[1])\n",
    "print(fruits[2])\n",
    "#不知道list有哪些屬性？有哪些方法？\n",
    "#使用實體屬性 fruits.屬性\n",
    "#使用實體方法 fruits.方法()"
   ]
  },
  {
   "cell_type": "code",
   "execution_count": 6,
   "id": "07f33398",
   "metadata": {},
   "outputs": [
    {
     "name": "stdout",
     "output_type": "stream",
     "text": [
      "['apple', 'banana', 'cherry']\n",
      "['apple', 'banana', 'cherry']\n",
      "=============\n",
      "['apple', 'raspberry', 'cherry']\n",
      "['apple', 'raspberry', 'cherry']\n",
      "['apple', 'raspberry', 'cherry']\n",
      "=============try\n",
      "['apple', 'DOG', 'cherry']\n",
      "['apple', 'DOG', 'cherry']\n"
     ]
    }
   ],
   "source": [
    "\n",
    "#實體只有一個，只是給了遙控器(reference type)\n",
    "#實體裡面有屬性(property)和方法(method)\n",
    "#所有的實體都是class建立的，class是工廠\n",
    "\n",
    "\n",
    "fruits = ['apple', 'banana', 'cherry']\n",
    "type(fruits)\n",
    "print(fruits)\n",
    "another_fruits = fruits\n",
    "another_fruits1 = another_fruits\n",
    "print(another_fruits)\n",
    "\n",
    "print(\"=============\")\n",
    "fruits[1] = 'raspberry'\n",
    "print(fruits)\n",
    "print(another_fruits)\n",
    "print(another_fruits1)\n",
    "\n",
    "print(\"=============try\")\n",
    "another_fruits[1] = 'DOG'\n",
    "print(another_fruits)\n",
    "print(fruits)\n"
   ]
  },
  {
   "cell_type": "code",
   "execution_count": 1,
   "id": "ae234bb6",
   "metadata": {},
   "outputs": [
    {
     "name": "stdout",
     "output_type": "stream",
     "text": [
      "3\n",
      "3\n",
      "==============\n",
      "3\n",
      "5\n"
     ]
    }
   ],
   "source": [
    "#基本資料類型\n",
    "n = 3\n",
    "x = n\n",
    "print(n)\n",
    "print(x)\n",
    "print(\"==============\")\n",
    "x = 5\n",
    "print(n)\n",
    "print(x)\n"
   ]
  },
  {
   "cell_type": "markdown",
   "id": "59e7f8a2",
   "metadata": {},
   "source": [
    "### 資料結構\n",
    "### 資本資料類型：（value type）:int,float, bool, str, tuple"
   ]
  }
 ],
 "metadata": {
  "kernelspec": {
   "display_name": "web_crawler",
   "language": "python",
   "name": "python3"
  },
  "language_info": {
   "codemirror_mode": {
    "name": "ipython",
    "version": 3
   },
   "file_extension": ".py",
   "mimetype": "text/x-python",
   "name": "python",
   "nbconvert_exporter": "python",
   "pygments_lexer": "ipython3",
   "version": "3.11.13"
  }
 },
 "nbformat": 4,
 "nbformat_minor": 5
}
