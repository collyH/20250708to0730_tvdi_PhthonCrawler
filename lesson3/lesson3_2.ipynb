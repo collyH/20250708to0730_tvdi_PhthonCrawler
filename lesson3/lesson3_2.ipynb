{
 "cells": [
  {
   "cell_type": "code",
   "execution_count": 4,
   "id": "c5940e95",
   "metadata": {},
   "outputs": [
    {
     "data": {
      "text/plain": [
       "11"
      ]
     },
     "execution_count": 4,
     "metadata": {},
     "output_type": "execute_result"
    }
   ],
   "source": [
    "#自訂function (function是一堆程式碼包起來，裡面有專有名詞，比如參數)\n",
    "#定義function\n",
    "#def 功能名稱(參數,參數2)：，比如 咖啡機(咖啡盤子,水杯):裡面要有return 咖啡\n",
    "\n",
    "#呼叫function(引數值1,引數值2) & 用個來接，比如：咖啡杯=咖啡機(咖啡豆200克,水500毫升)\n",
    "\n",
    "#=======================\n",
    "def add_number(value1, value2):\n",
    "    return value1 + value2\n",
    "\n",
    "result = add_number(5,6)\n",
    "result"
   ]
  }
 ],
 "metadata": {
  "kernelspec": {
   "display_name": "web_crawler",
   "language": "python",
   "name": "python3"
  },
  "language_info": {
   "codemirror_mode": {
    "name": "ipython",
    "version": 3
   },
   "file_extension": ".py",
   "mimetype": "text/x-python",
   "name": "python",
   "nbconvert_exporter": "python",
   "pygments_lexer": "ipython3",
   "version": "3.11.13"
  }
 },
 "nbformat": 4,
 "nbformat_minor": 5
}
