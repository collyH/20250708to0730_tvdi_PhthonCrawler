{
 "cells": [
  {
   "cell_type": "code",
   "execution_count": 8,
   "id": "85e6b1e7",
   "metadata": {},
   "outputs": [
    {
     "name": "stdout",
     "output_type": "stream",
     "text": [
      "合併＋排序後的list是 [1, 2, 35, 39, 40, 47, 49, 51]\n"
     ]
    }
   ],
   "source": [
    "def merge_and_sort_lists(list1, list2):\n",
    "    \"\"\"\n",
    "    合併兩個整數 list，並從小到大排序後傳回新 list。\n",
    "    \n",
    "    參數:\n",
    "    list1 -- 第一個整數 list\n",
    "    list2 -- 第二個整數 list\n",
    "    \n",
    "    傳回:\n",
    "    排序後的新整數 list\n",
    "    \"\"\"\n",
    "    merged_list = list1 + list2       # 合併兩個 list\n",
    "    sorted_list = sorted(merged_list) # 排序合併後的 list\n",
    "    return sorted_list\n",
    "\n",
    "\n",
    "import random\n",
    "\n",
    "# 產生一個有 10 個亂數整數的 list，每個整數範圍在 1 到 100 之間\n",
    "random_list1 = [random.randint(1, 100) for _ in range(3)]\n",
    "random_list2= [random.randint(1, 100) for _ in range(5)]\n",
    "\n",
    "merged_sorted_list = merge_and_sort_lists(random_list1,random_list2)\n",
    "\n",
    "print(\"合併＋排序後的list是\",merged_sorted_list)\n"
   ]
  },
  {
   "cell_type": "markdown",
   "id": "802552ad",
   "metadata": {},
   "source": [
    "這段程式碼的主要目的是產生兩個隨機整數列表，將它們合併後排序，最後輸出結果。首先，`random_list1` 透過 list comprehension 產生三個介於 1 到 100 之間的隨機整數；`random_list2` 則產生五個同樣範圍的隨機整數。這裡使用了 `random.randint(1, 100)` 來產生隨機數字，並用 for 迴圈重複指定次數。\n",
    "\n",
    "接著，程式呼叫 `merge_and_sort_lists` 函式，將這兩個隨機列表合併並排序。這個函式會先將兩個列表合併成一個，再用 `sorted()` 函式將合併後的列表從小到大排序，最後回傳排序後的新列表。\n",
    "\n",
    "最後，程式使用 `print()` 將合併且排序後的結果輸出，讓使用者可以看到最終的整數列表。這段程式碼展示了如何結合隨機數生成、列表操作與自訂函式來完成一個常見的資料處理任務。"
   ]
  },
  {
   "cell_type": "code",
   "execution_count": null,
   "id": "d4c0143b",
   "metadata": {},
   "outputs": [],
   "source": [
    "#for _ inrange(10)跑10次"
   ]
  },
  {
   "cell_type": "code",
   "execution_count": 4,
   "id": "c5940e95",
   "metadata": {},
   "outputs": [
    {
     "data": {
      "text/plain": [
       "11"
      ]
     },
     "execution_count": 4,
     "metadata": {},
     "output_type": "execute_result"
    }
   ],
   "source": [
    "#自訂function (function是一堆程式碼包起來，裡面有專有名詞，比如參數)\n",
    "#定義function\n",
    "#def 功能名稱(參數,參數2)：，比如 咖啡機(咖啡盤子,水杯):裡面要有return 咖啡\n",
    "\n",
    "#呼叫function(引數值1,引數值2) & 用個來接，比如：咖啡杯=咖啡機(咖啡豆200克,水500毫升)\n",
    "\n",
    "#=======================\n",
    "def add_number(value1, value2):\n",
    "    return value1 + value2\n",
    "\n",
    "result = add_number(5,6)\n",
    "result"
   ]
  }
 ],
 "metadata": {
  "kernelspec": {
   "display_name": "web_crawler",
   "language": "python",
   "name": "python3"
  },
  "language_info": {
   "codemirror_mode": {
    "name": "ipython",
    "version": 3
   },
   "file_extension": ".py",
   "mimetype": "text/x-python",
   "name": "python",
   "nbconvert_exporter": "python",
   "pygments_lexer": "ipython3",
   "version": "3.11.13"
  }
 },
 "nbformat": 4,
 "nbformat_minor": 5
}
