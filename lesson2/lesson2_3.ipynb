{
 "cells": [
  {
   "cell_type": "markdown",
   "id": "3de5254f",
   "metadata": {},
   "source": [
    "# 模組/套件\n",
    "## 內建module裡面有：function, 常數, class類別\n",
    "## 外部的Module：\n",
    "### Google查詢 \"PyPI · The Python Package Index\"，有700多萬筆"
   ]
  },
  {
   "cell_type": "markdown",
   "id": "1e4a59f5",
   "metadata": {},
   "source": []
  }
 ],
 "metadata": {
  "kernelspec": {
   "display_name": "web_crawler",
   "language": "python",
   "name": "python3"
  },
  "language_info": {
   "name": "python",
   "version": "3.11.13"
  }
 },
 "nbformat": 4,
 "nbformat_minor": 5
}
