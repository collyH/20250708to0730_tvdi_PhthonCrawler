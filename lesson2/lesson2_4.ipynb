{
 "cells": [
  {
   "cell_type": "code",
   "execution_count": 8,
   "id": "33e08f6a",
   "metadata": {},
   "outputs": [
    {
     "name": "stdout",
     "output_type": "stream",
     "text": [
      "你可以領取6個月津貼\n"
     ]
    }
   ],
   "source": [
    "#雙向選擇\n",
    "age = 16\n",
    "\n",
    "if age >= 45:    #傳出比較運算值，得到true\n",
    "    #這是True的程式區塊\n",
    "    print(\"你可以領取9個月津貼\")     #這是True的程式區塊\n",
    "else:\n",
    "    #這是False的程式區塊\n",
    "    print(\"你可以領取6個月津貼\") "
   ]
  },
  {
   "cell_type": "code",
   "execution_count": 5,
   "id": "30f71a5c",
   "metadata": {},
   "outputs": [
    {
     "name": "stdout",
     "output_type": "stream",
     "text": [
      "你可以領取9個月津貼\n"
     ]
    }
   ],
   "source": [
    "#一元判斷，單項選擇\n",
    "age = 148\n",
    "\n",
    "if age >= 45:    #傳出比較運算值，得到true\n",
    "    print(\"你可以領取9個月津貼\")     #這是True的程式區塊"
   ]
  },
  {
   "cell_type": "code",
   "execution_count": 15,
   "id": "fb4258f6",
   "metadata": {},
   "outputs": [
    {
     "name": "stdout",
     "output_type": "stream",
     "text": [
      "成績普通，屬於乙級，記得回家複習\n"
     ]
    }
   ],
   "source": [
    "#多項選擇\n",
    "score = 60\n",
    "\n",
    "if score >= 90:\n",
    "    print(\"成績一級棒，屬於甲級\")\n",
    "elif score >= 60:\n",
    "    print(\"成績普通，屬於乙級，記得回家複習\")\n",
    "else:\n",
    "    print(\"成績不符合期待，屬於丙級，需要參加補救教學！\")"
   ]
  }
 ],
 "metadata": {
  "kernelspec": {
   "display_name": "web_crawler",
   "language": "python",
   "name": "python3"
  },
  "language_info": {
   "codemirror_mode": {
    "name": "ipython",
    "version": 3
   },
   "file_extension": ".py",
   "mimetype": "text/x-python",
   "name": "python",
   "nbconvert_exporter": "python",
   "pygments_lexer": "ipython3",
   "version": "3.11.13"
  }
 },
 "nbformat": 4,
 "nbformat_minor": 5
}
