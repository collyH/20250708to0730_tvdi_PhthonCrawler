{
 "cells": [
  {
   "cell_type": "code",
   "execution_count": 1,
   "id": "7d837583",
   "metadata": {},
   "outputs": [
    {
     "name": "stdout",
     "output_type": "stream",
     "text": [
      "Hello\n"
     ]
    }
   ],
   "source": [
    "print(\"Hello\")"
   ]
  },
  {
   "cell_type": "markdown",
   "id": "3b088def",
   "metadata": {},
   "source": [
    "### python 基礎"
   ]
  },
  {
   "cell_type": "markdown",
   "id": "650aaeab",
   "metadata": {},
   "source": [
    "###Markdown做筆記"
   ]
  },
  {
   "cell_type": "code",
   "execution_count": 2,
   "id": "6cbb4fd0",
   "metadata": {},
   "outputs": [
    {
     "name": "stdout",
     "output_type": "stream",
     "text": [
      "加油！不要放棄！\n"
     ]
    }
   ],
   "source": [
    "print(\"加油！不要放棄！\")"
   ]
  }
 ],
 "metadata": {
  "kernelspec": {
   "display_name": "web_crawler",
   "language": "python",
   "name": "python3"
  },
  "language_info": {
   "codemirror_mode": {
    "name": "ipython",
    "version": 3
   },
   "file_extension": ".py",
   "mimetype": "text/x-python",
   "name": "python",
   "nbconvert_exporter": "python",
   "pygments_lexer": "ipython3",
   "version": "3.11.13"
  }
 },
 "nbformat": 4,
 "nbformat_minor": 5
}
