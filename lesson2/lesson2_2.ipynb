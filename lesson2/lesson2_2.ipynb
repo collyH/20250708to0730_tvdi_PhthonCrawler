{
 "cells": [
  {
   "cell_type": "code",
   "execution_count": 1,
   "id": "7d837583",
   "metadata": {},
   "outputs": [
    {
     "name": "stdout",
     "output_type": "stream",
     "text": [
      "Hello\n"
     ]
    }
   ],
   "source": [
    "print(\"Hello\")"
   ]
  },
  {
   "cell_type": "markdown",
   "id": "3b088def",
   "metadata": {},
   "source": [
    "# python 基礎"
   ]
  },
  {
   "cell_type": "markdown",
   "id": "c4d22ecb",
   "metadata": {},
   "source": [
    "## python 專業術語，\n",
    "### 變數variable，是用來暫時儲存資料的名稱，第一個是一定要英文字或底線，不可以空一格\n",
    "### 資料類型：字串str, 整數int, 浮點數float, 布林值bool\n",
    "### ”功能 Function“，比如print()，代表一種功能\n",
    "### 內建的function 標準函式庫(Standard Library)"
   ]
  },
  {
   "cell_type": "markdown",
   "id": "650aaeab",
   "metadata": {},
   "source": [
    "###Markdown做筆記"
   ]
  },
  {
   "cell_type": "code",
   "execution_count": 5,
   "id": "ed039089",
   "metadata": {},
   "outputs": [
    {
     "name": "stdout",
     "output_type": "stream",
     "text": [
      "Kevin\n",
      "25\n",
      "1.65\n",
      "True\n"
     ]
    }
   ],
   "source": [
    "name = \"Kevin\"         # 建立一個變數叫“name\",資料類型是字串（string）\n",
    "age = 25               # 變數叫“age\"，資料類型是整數（integer）\n",
    "height = 1.65          # 變數叫“height\",資料類型是浮點數（float）\n",
    "is_student = True      # 變數叫“，資料類型是布林值（boolean）\n",
    "\n",
    "print(name)            # print是功能\n",
    "print(age)\n",
    "print(height)\n",
    "print(is_student)"
   ]
  },
  {
   "cell_type": "code",
   "execution_count": 2,
   "id": "6cbb4fd0",
   "metadata": {},
   "outputs": [
    {
     "name": "stdout",
     "output_type": "stream",
     "text": [
      "加油！不要放棄！\n"
     ]
    }
   ],
   "source": [
    "print(\"加油！不要放棄！\")"
   ]
  },
  {
   "cell_type": "markdown",
   "id": "f9993137",
   "metadata": {},
   "source": [
    "## python的\"數學運算子\"有哪些？\n",
    "### 建立一個變數叫做\"sum_result\"，\n",
    "### /浮點數除法，“//”整數除法\n",
    "### 引數值, 引數值中間用逗號分開\n",
    "# "
   ]
  }
 ],
 "metadata": {
  "kernelspec": {
   "display_name": "web_crawler",
   "language": "python",
   "name": "python3"
  },
  "language_info": {
   "codemirror_mode": {
    "name": "ipython",
    "version": 3
   },
   "file_extension": ".py",
   "mimetype": "text/x-python",
   "name": "python",
   "nbconvert_exporter": "python",
   "pygments_lexer": "ipython3",
   "version": "3.11.13"
  }
 },
 "nbformat": 4,
 "nbformat_minor": 5
}
