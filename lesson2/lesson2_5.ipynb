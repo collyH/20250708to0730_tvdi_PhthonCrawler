{
 "cells": [
  {
   "cell_type": "code",
   "execution_count": 19,
   "id": "71996e49",
   "metadata": {},
   "outputs": [
    {
     "name": "stdout",
     "output_type": "stream",
     "text": [
      "截至目前，你已經yes了：1次\n",
      "終於結束了，你遊戲總計玩了1次\n"
     ]
    }
   ],
   "source": [
    "#當不知道執行幾次，用while迴圈\n",
    "#while兩大關鍵字: break, continue，比如使用者決定“要不要繼續”\n",
    "\n",
    "i = 0\n",
    "while(True):\n",
    "    is_play = input(\"繼續還嗎？（輸入y,n）\")\n",
    "    if is_play == \"n\":\n",
    "        break\n",
    "    i += 1\n",
    "    print(f\"截至目前，你已經yes了：{i}次\")\n",
    "print(f\"終於結束了，你遊戲總計玩了{i}次\")\n",
    "    "
   ]
  },
  {
   "cell_type": "code",
   "execution_count": 13,
   "id": "9f6f36d0",
   "metadata": {},
   "outputs": [
    {
     "name": "stdout",
     "output_type": "stream",
     "text": [
      "當 1 加到 10 總和為 55\n"
     ]
    }
   ],
   "source": [
    "#**明確知道要執行的次數**，用for 變數 in 串列資料:\n",
    "#誰可以建立串列資料？查說明書，發現range()\n",
    "total = 0\n",
    "#for-in迴圈，**for 變數 in 串列資料:**\n",
    "x = 1\n",
    "y = 10\n",
    "for i in range(1,y+1): #1-1000，所以要放1001\n",
    "    total += i\n",
    "\n",
    "print(\"當\",x,\"加到\",y,\"總和為\",total)"
   ]
  },
  {
   "cell_type": "code",
   "execution_count": null,
   "id": "8334c84b",
   "metadata": {},
   "outputs": [],
   "source": [
    "#複合指令運算值\n",
    "i = 0\n",
    "i = i + 25\n",
    "print(i)"
   ]
  },
  {
   "cell_type": "code",
   "execution_count": 2,
   "id": "2b87b38e",
   "metadata": {},
   "outputs": [
    {
     "name": "stdout",
     "output_type": "stream",
     "text": [
      "25\n"
     ]
    }
   ],
   "source": [
    "#迴圈\n",
    "i = 0\n",
    "i += 25\n",
    "print(i)"
   ]
  }
 ],
 "metadata": {
  "kernelspec": {
   "display_name": "web_crawler",
   "language": "python",
   "name": "python3"
  },
  "language_info": {
   "codemirror_mode": {
    "name": "ipython",
    "version": 3
   },
   "file_extension": ".py",
   "mimetype": "text/x-python",
   "name": "python",
   "nbconvert_exporter": "python",
   "pygments_lexer": "ipython3",
   "version": "3.11.13"
  }
 },
 "nbformat": 4,
 "nbformat_minor": 5
}
